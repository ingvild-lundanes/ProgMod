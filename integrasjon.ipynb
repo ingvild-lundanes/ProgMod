{
 "cells": [
  {
   "cell_type": "markdown",
   "metadata": {},
   "source": [
    "# Integrasjon #\n",
    "\n",
    "Den motsatte operasjonen av derivasjon, gir arealet under en graf.\n",
    "### Skrivemåte: ###\n",
    "\n",
    "$$ \\int^{1}_{-2} f(x) dx $$\n",
    "\n",
    "gir arealet markert på figuren.\n",
    "\n",
    "<img src=\"integral.png\" height=300>\n",
    "\n",
    "## Numeriske metoder ##\n",
    "\n",
    "Det finnes to enkle metoder for å estimere arealet under graf, med rektangler eller trapeser.\n",
    "\n",
    "### Rektangelmetoden ###\n",
    "\n",
    "Del opp arealet i N like bredder, og tegn rektangler som har høyde lik $ f(x_{k})$.\n",
    "\n",
    "<img src=\"integral_rektangel.png\" height=300>\n",
    "\n",
    "Arealet av rektanglene blir til sammen $$ \\sum_{k=0}^{N-1} f(x_k)\\cdot h $$\n",
    "\n",
    "Hvis vi skal finne arealet under grafen fra $ x = a$ til $ x = b $ blir bredden av hvert rektangel $ h = \\frac{b-a}{N}$\n",
    "\n",
    "$$ \\int_{a}^{b} f(x) dx \\approx \\sum_{k=0}^{N-1} f(x_k)\\cdot h $$\n",
    "\n",
    "Dette kan feks implementeres slik:"
   ]
  },
  {
   "cell_type": "code",
   "execution_count": 3,
   "metadata": {},
   "outputs": [],
   "source": [
    "def integral_rektangel(f, a, b, N):\n",
    "    areal = 0\n",
    "    h = (b-a)/N\n",
    "\n",
    "    for k in range(N):\n",
    "        x = a + k*h\n",
    "        areal += h*f(x)\n",
    "\n",
    "    return areal"
   ]
  },
  {
   "cell_type": "markdown",
   "metadata": {},
   "source": [
    "Hvis funksjonen f er gitt ved $ f(x) = 2x^4 + 2x^3 - 5x^2 +3x + 25$ og vi bruker 20 rektangler får vi et estimat for integralet $ \\int_{-2}^{1} f(x)dx$:"
   ]
  },
  {
   "cell_type": "code",
   "execution_count": 4,
   "metadata": {},
   "outputs": [
    {
     "name": "stdout",
     "output_type": "stream",
     "text": [
      "60.34489874999999\n"
     ]
    }
   ],
   "source": [
    "def f(x):\n",
    "    y = 2*x**4 + 2*x**3 - 5*x**2 + 3*x + 25\n",
    "    return y\n",
    "\n",
    "areal = integral_rektangel(f, -2, 1, 20)\n",
    "print(areal)"
   ]
  },
  {
   "cell_type": "markdown",
   "metadata": {},
   "source": [
    "I likhet med metodene for derivasjon øker nøyaktigheten jo mindre hvert intervall blir:"
   ]
  },
  {
   "cell_type": "code",
   "execution_count": 5,
   "metadata": {},
   "outputs": [
    {
     "name": "stdout",
     "output_type": "stream",
     "text": [
      "59.578379999999996\n",
      "61.02179983800001\n",
      "61.18201799998375\n",
      "61.19820018000018\n",
      "61.19982000179993\n",
      "61.199982000017734\n",
      "61.19999819999752\n",
      "61.19999982000225\n",
      "61.199999981998644\n"
     ]
    }
   ],
   "source": [
    "for n in range(1,7):\n",
    "    N = 10**n\n",
    "    areal = integral_rektangel(f, -2, 1, N)\n",
    "    resultat = f\"10^{n} rektangler gir et areal på {areal}\"\n",
    "    print(resultat)"
   ]
  },
  {
   "cell_type": "markdown",
   "metadata": {},
   "source": [
    "### Trapesmetoden ###\n",
    "\n",
    "Dersom vi estimerer arealet med trapeser i stedet for rektangler blir arealet mer nøyaktig.\n",
    "\n",
    "<img src=\"integral_trapes.png\" height=300>\n",
    "\n",
    "Arealet av et trapes er gitt ved $ A = \\frac{a+b}{2}\\cdot h $, der a og b er de parallelle sidene, altså $ f(x_{k}) $ og $ f(x_{k+1}) $ og h er \"høyden\" av trapeset, som er lik bredden av rektanglene.\n",
    "\n",
    "Det totale arealet blir da\n",
    "$$ \\sum_{k = 0}^{N-1} \\frac{f(x_k) + f(x_{k+1})}{2}\\cdot h$$\n",
    "\n",
    "Dette kan implementeres slik:"
   ]
  },
  {
   "cell_type": "code",
   "execution_count": null,
   "metadata": {},
   "outputs": [],
   "source": [
    "def integral_trapes(f, a, b, N):\n",
    "    areal = 0\n",
    "    h = (b-a)/N\n",
    "\n",
    "    for k in range(N):\n",
    "        areal += (f(a+k*h) + f(a+(k+1)*h))*h/2\n",
    "\n",
    "    return areal\n",
    "\n",
    "for\n"
   ]
  }
 ],
 "metadata": {
  "file_extension": ".py",
  "kernelspec": {
   "display_name": "Python 3",
   "language": "python",
   "name": "python3"
  },
  "language_info": {
   "codemirror_mode": {
    "name": "ipython",
    "version": 3
   },
   "file_extension": ".py",
   "mimetype": "text/x-python",
   "name": "python",
   "nbconvert_exporter": "python",
   "pygments_lexer": "ipython3",
   "version": "3.6.4"
  },
  "mimetype": "text/x-python",
  "name": "python",
  "npconvert_exporter": "python",
  "pygments_lexer": "ipython3",
  "version": 3
 },
 "nbformat": 4,
 "nbformat_minor": 4
}